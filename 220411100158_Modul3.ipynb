{
  "nbformat": 4,
  "nbformat_minor": 0,
  "metadata": {
    "colab": {
      "provenance": []
    },
    "kernelspec": {
      "name": "python3",
      "display_name": "Python 3"
    },
    "language_info": {
      "name": "python"
    }
  },
  "cells": [
    {
      "cell_type": "code",
      "execution_count": null,
      "metadata": {
        "id": "vAS7jmc5N2hy"
      },
      "outputs": [],
      "source": [
        "class Node:\n",
        "    def __init__(self, data):\n",
        "        self.data = data\n",
        "        self.next = None\n",
        "        self.prev = None\n",
        "\n",
        "    def get_data(self):\n",
        "        return self.data\n",
        "\n",
        "    def get_next(self):\n",
        "        return self.next\n",
        "\n",
        "    def get_prev(self):\n",
        "        return self.prev\n",
        "\n",
        "    def set_data(self, new_data):\n",
        "        self.data = new_data\n",
        "\n",
        "    def set_next(self, new_next):\n",
        "        self.next = new_next\n",
        "\n",
        "    def set_prev(self, new_prev):\n",
        "        self.prev = new_prev\n",
        "\n",
        "    def __repr__(self):\n",
        "        return str(self.data)"
      ]
    },
    {
      "cell_type": "code",
      "source": [
        "class LinkedList:\n",
        "    def __init__(self):\n",
        "        self.head = None\n",
        "        self.tail = None\n",
        "\n",
        "    def is_empty(self):\n",
        "        return self.head is None\n",
        "\n",
        "    def add_tail(self, data):\n",
        "        new_node = Node(data)\n",
        "        if self.is_empty():\n",
        "            self.head = new_node\n",
        "            self.tail = new_node\n",
        "        else:\n",
        "            self.tail.set_next(new_node)\n",
        "            new_node.set_prev(self.tail)\n",
        "            self.tail = new_node\n",
        "\n",
        "    def add_head(self, data):\n",
        "        new_node = Node(data)\n",
        "        if self.is_empty():\n",
        "            self.head = new_node\n",
        "            self.tail = new_node\n",
        "        else:\n",
        "            new_node.set_next(self.head)\n",
        "            self.head.set_prev(new_node)\n",
        "            self.head = new_node\n",
        "\n",
        "    def insert_after(self, data, after_node_data):\n",
        "        new_node = Node(data)\n",
        "        current = self.head\n",
        "        while current is not None:\n",
        "            if current.get_data() == after_node_data:\n",
        "                if current == self.tail:\n",
        "                    self.add_tail(data)\n",
        "                else:\n",
        "                    new_node.set_next(current.get_next())\n",
        "                    new_node.set_prev(current)\n",
        "                    current.get_next().set_prev(new_node)\n",
        "                    current.set_next(new_node)\n",
        "                return\n",
        "            current = current.get_next()\n",
        "        raise ValueError(f\"{after_node_data} tidak ada di dalam list.\")\n",
        "\n",
        "    def delete(self, data):\n",
        "        current = self.head\n",
        "        while current is not None:\n",
        "            if current.get_data() == data:\n",
        "                if current == self.head and current == self.tail:\n",
        "                    self.head = None\n",
        "                    self.tail = None\n",
        "                elif current == self.head:\n",
        "                    self.head = current.get_next()\n",
        "                    self.head.set_prev(None)\n",
        "                elif current == self.tail:\n",
        "                    self.tail = current.get_prev()\n",
        "                    self.tail.set_next(None)\n",
        "                else:\n",
        "                    current.get_prev().set_next(current.get_next())\n",
        "                    current.get_next().set_prev(current.get_prev())\n",
        "                return\n",
        "            current = current.get_next()\n",
        "        raise ValueError(f\"{data} tidak ada di dalam list.\")\n",
        "\n",
        "    def delete_head(self):\n",
        "        if self.is_empty():\n",
        "            raise ValueError(\"List kosong\")\n",
        "        if self.head == self.tail:\n",
        "            self.head = None\n",
        "            self.tail = None\n",
        "        else:\n",
        "            self.head = self.head.get_next()\n",
        "            self.head.set_prev(None)\n",
        "\n",
        "    def delete_tail(self):\n",
        "        if self.is_empty():\n",
        "            raise ValueError(\"List kosong\")\n",
        "        if self.head == self.tail:\n",
        "            self.head = None\n",
        "            self.tail = None\n",
        "        else:\n",
        "            self.tail = self.tail.get_prev()\n",
        "            self.tail.set_next(None)\n",
        "\n",
        "    def __repr__(self):\n",
        "        nodes = []\n",
        "        current = self.head\n",
        "        while current is not None:\n",
        "            nodes.append(str(current.get_data()))\n",
        "            current = current.get_next()\n",
        "        return \" -> \".join(nodes)"
      ],
      "metadata": {
        "id": "ErErVzGRONxD"
      },
      "execution_count": null,
      "outputs": []
    },
    {
      "cell_type": "code",
      "source": [
        "mylist = LinkedList()"
      ],
      "metadata": {
        "id": "ItJRNMQgPPbx"
      },
      "execution_count": null,
      "outputs": []
    },
    {
      "cell_type": "code",
      "source": [
        "# Inisialisasi data awal\n",
        "\n",
        "mylist.add_head(100)\n",
        "mylist.add_tail(200)\n",
        "mylist.add_tail(300)\n",
        "mylist.add_tail(400)\n",
        "mylist"
      ],
      "metadata": {
        "colab": {
          "base_uri": "https://localhost:8080/"
        },
        "id": "IjoXvpa3OZI8",
        "outputId": "f78550e2-dc15-4e47-d6f1-015eae54f9d0"
      },
      "execution_count": null,
      "outputs": [
        {
          "output_type": "execute_result",
          "data": {
            "text/plain": [
              "100 -> 200 -> 300 -> 400"
            ]
          },
          "metadata": {},
          "execution_count": 4
        }
      ]
    },
    {
      "cell_type": "code",
      "source": [
        "# Menambahkan data di akhir\n",
        "\n",
        "mylist.add_tail(500)\n",
        "mylist"
      ],
      "metadata": {
        "colab": {
          "base_uri": "https://localhost:8080/"
        },
        "id": "FgQx1p9zOavQ",
        "outputId": "c31f8c81-cb81-4ca0-e133-e4616f88d9b4"
      },
      "execution_count": null,
      "outputs": [
        {
          "output_type": "execute_result",
          "data": {
            "text/plain": [
              "100 -> 200 -> 300 -> 400 -> 500"
            ]
          },
          "metadata": {},
          "execution_count": 5
        }
      ]
    },
    {
      "cell_type": "code",
      "source": [
        "# Menambahkan data di awal\n",
        "\n",
        "mylist.add_head(50)\n",
        "mylist"
      ],
      "metadata": {
        "colab": {
          "base_uri": "https://localhost:8080/"
        },
        "id": "6jYdpstIObEa",
        "outputId": "f8b124c2-dd4e-4dc4-e0cf-a1fb0b6d6ec3"
      },
      "execution_count": null,
      "outputs": [
        {
          "output_type": "execute_result",
          "data": {
            "text/plain": [
              "50 -> 100 -> 200 -> 300 -> 400 -> 500"
            ]
          },
          "metadata": {},
          "execution_count": 6
        }
      ]
    },
    {
      "cell_type": "code",
      "source": [
        "# Menambahkan data 250 setelah data 200\n",
        "\n",
        "mylist.insert_after(250, 200)\n",
        "mylist"
      ],
      "metadata": {
        "colab": {
          "base_uri": "https://localhost:8080/"
        },
        "id": "jHXMAZI5ObSN",
        "outputId": "a0109231-e0aa-49cc-c6f6-61e6c34c5d38"
      },
      "execution_count": null,
      "outputs": [
        {
          "output_type": "execute_result",
          "data": {
            "text/plain": [
              "50 -> 100 -> 200 -> 250 -> 300 -> 400 -> 500"
            ]
          },
          "metadata": {},
          "execution_count": 7
        }
      ]
    },
    {
      "cell_type": "code",
      "source": [
        "# Menghapus data di awal, data di akhir serta menghapus data target\n",
        "\n",
        "mylist.delete_head()\n",
        "mylist.delete_tail()\n",
        "mylist.delete(300)\n",
        "mylist"
      ],
      "metadata": {
        "colab": {
          "base_uri": "https://localhost:8080/"
        },
        "id": "aY2JCMvUO-x_",
        "outputId": "654a2c27-6284-4dc3-8a7a-80aba650e340"
      },
      "execution_count": null,
      "outputs": [
        {
          "output_type": "execute_result",
          "data": {
            "text/plain": [
              "100 -> 200 -> 250 -> 400"
            ]
          },
          "metadata": {},
          "execution_count": 8
        }
      ]
    }
  ]
}