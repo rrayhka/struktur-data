{
  "nbformat": 4,
  "nbformat_minor": 0,
  "metadata": {
    "colab": {
      "provenance": []
    },
    "kernelspec": {
      "name": "python3",
      "display_name": "Python 3"
    },
    "language_info": {
      "name": "python"
    }
  },
  "cells": [
    {
      "cell_type": "markdown",
      "source": [
        "#Nomor 1\n",
        "a. Mengurutkan data secara Ascending dimulai dari index terakhir\n",
        "\n",
        "b. Mengurutkan data secara Descending dimulai dari index awal"
      ],
      "metadata": {
        "id": "4cygdC3gvIL1"
      }
    },
    {
      "cell_type": "code",
      "execution_count": null,
      "metadata": {
        "id": "x9yZO6BKvEik"
      },
      "outputs": [],
      "source": [
        "def InsertionSortAscending(data):\n",
        "    for indeks in range(len(data) - 1, -1, -1):\n",
        "        nilai_sekarang = data[indeks]\n",
        "        posisi = indeks\n",
        "        print(f\"Iterasi ke - {indeks}\")\n",
        "        while posisi < len(data) - 1 and data[posisi + 1] < nilai_sekarang:\n",
        "            data[posisi] = data[posisi + 1]\n",
        "            posisi += 1\n",
        "        data[posisi] = nilai_sekarang\n",
        "        print(data)\n",
        "    return f\"Data Urut = {data}\""
      ]
    },
    {
      "cell_type": "code",
      "source": [
        "import random\n",
        "data = [random.randint(0, 100) for i in range(0, 5)]\n",
        "print(f\"Data Awal = {data}\\n\")\n",
        "InsertionSortAscending(data)"
      ],
      "metadata": {
        "colab": {
          "base_uri": "https://localhost:8080/",
          "height": 244
        },
        "id": "Se6m2GG0vsWD",
        "outputId": "3cd287aa-1102-4337-fc74-5977128cc0d1"
      },
      "execution_count": null,
      "outputs": [
        {
          "output_type": "stream",
          "name": "stdout",
          "text": [
            "Data Awal = [91, 44, 98, 80, 33]\n",
            "\n",
            "Iterasi ke - 4\n",
            "[91, 44, 98, 80, 33]\n",
            "Iterasi ke - 3\n",
            "[91, 44, 98, 33, 80]\n",
            "Iterasi ke - 2\n",
            "[91, 44, 33, 80, 98]\n",
            "Iterasi ke - 1\n",
            "[91, 33, 44, 80, 98]\n",
            "Iterasi ke - 0\n",
            "[33, 44, 80, 91, 98]\n"
          ]
        },
        {
          "output_type": "execute_result",
          "data": {
            "text/plain": [
              "'Data Urut = [33, 44, 80, 91, 98]'"
            ],
            "application/vnd.google.colaboratory.intrinsic+json": {
              "type": "string"
            }
          },
          "metadata": {},
          "execution_count": 6
        }
      ]
    },
    {
      "cell_type": "code",
      "source": [
        "def InsertionSortDescending(data):\n",
        "    for indeks in range(0, len(data)):\n",
        "        nilai_sekarang = data[indeks]\n",
        "        posisi = indeks\n",
        "        print(f\"Iterasi ke - {indeks}\")\n",
        "        while posisi > 0 and data[posisi - 1] < nilai_sekarang:\n",
        "            data[posisi] = data[posisi - 1]\n",
        "            posisi -= 1\n",
        "        data[posisi] = nilai_sekarang\n",
        "        print(data)\n",
        "    return f\"Data Urut = {data}\""
      ],
      "metadata": {
        "id": "iZ5VWwHrvyDt"
      },
      "execution_count": null,
      "outputs": []
    },
    {
      "cell_type": "code",
      "source": [
        "import random\n",
        "data = [random.randint(0, 100) for i in range(0, 5)]\n",
        "print(f\"Data Awal = {data}\\n\")\n",
        "InsertionSortDescending(data)"
      ],
      "metadata": {
        "colab": {
          "base_uri": "https://localhost:8080/",
          "height": 244
        },
        "id": "RN0xWVTLv3LF",
        "outputId": "6bb557f4-bf6a-43cb-dcc1-e9acb7d6d499"
      },
      "execution_count": null,
      "outputs": [
        {
          "output_type": "stream",
          "name": "stdout",
          "text": [
            "Data Awal = [98, 26, 19, 27, 93]\n",
            "\n",
            "Iterasi ke - 0\n",
            "[98, 26, 19, 27, 93]\n",
            "Iterasi ke - 1\n",
            "[98, 26, 19, 27, 93]\n",
            "Iterasi ke - 2\n",
            "[98, 26, 19, 27, 93]\n",
            "Iterasi ke - 3\n",
            "[98, 27, 26, 19, 93]\n",
            "Iterasi ke - 4\n",
            "[98, 93, 27, 26, 19]\n"
          ]
        },
        {
          "output_type": "execute_result",
          "data": {
            "text/plain": [
              "'Data Urut = [98, 93, 27, 26, 19]'"
            ],
            "application/vnd.google.colaboratory.intrinsic+json": {
              "type": "string"
            }
          },
          "metadata": {},
          "execution_count": 8
        }
      ]
    },
    {
      "cell_type": "markdown",
      "source": [
        "# Nomor 2\n",
        "Memodifikasi tower of hanoi"
      ],
      "metadata": {
        "id": "ZZ1q80YXwPoE"
      }
    },
    {
      "cell_type": "markdown",
      "source": [],
      "metadata": {
        "id": "JGkXsBrPJfXm"
      }
    },
    {
      "cell_type": "code",
      "source": [
        "def tower(n, asal, tujuan, temp):\n",
        "    if n > 0:\n",
        "        tower(n-1, asal, temp, tujuan)\n",
        "\n",
        "        print(f\"Lempengan {n} dari {asal} ke {tujuan}\")\n",
        "        move(asal, tujuan)\n",
        "        print_tower()\n",
        "\n",
        "        tower(n-1, temp, tujuan, asal)\n",
        "def move(asal, tujuan):\n",
        "    item = towers[asal].pop()\n",
        "    towers[tujuan].append(item)\n",
        "def print_tower():\n",
        "    print(asal, \": \", end=\"\")\n",
        "    [print(f\"|{i}|\", end=\"\") for i in towers[asal]]\n",
        "    print(f\"\\n{temp}\", \": \", end=\"\")\n",
        "    [print(f\"|{i}|\", end=\"\") for i in towers[temp]]\n",
        "    print(f\"\\n{tujuan}\", \": \", end=\"\")\n",
        "    [print(f\"|{i}|\", end=\"\") for i in towers[tujuan]]\n",
        "    print(\"\")\n",
        "\n",
        "n = 4\n",
        "asal = \"A\"\n",
        "tujuan = \"C\"\n",
        "temp = \"B\"\n",
        "towers = {\n",
        "    asal: [i for i in range(n, 0, -1)],\n",
        "    tujuan: [],\n",
        "    temp: []\n",
        "}\n",
        "print(\"Pemindahan 4 lempengan dari A ke C dengan menggunakan bantuan B\")\n",
        "print_tower()\n",
        "tower(n, asal, tujuan, temp)"
      ],
      "metadata": {
        "colab": {
          "base_uri": "https://localhost:8080/"
        },
        "id": "WoFhJDHxwX8e",
        "outputId": "6ea4313a-6480-4c8e-f2f3-099b1e700f03"
      },
      "execution_count": null,
      "outputs": [
        {
          "output_type": "stream",
          "name": "stdout",
          "text": [
            "Pemindahan 4 lempengan dari A ke C dengan menggunakan bantuan B\n",
            "A : |4||3||2||1|\n",
            "B : \n",
            "C : \n",
            "Lempengan 1 dari A ke B\n",
            "A : |4||3||2|\n",
            "B : |1|\n",
            "C : \n",
            "Lempengan 2 dari A ke C\n",
            "A : |4||3|\n",
            "B : |1|\n",
            "C : |2|\n",
            "Lempengan 1 dari B ke C\n",
            "A : |4||3|\n",
            "B : \n",
            "C : |2||1|\n",
            "Lempengan 3 dari A ke B\n",
            "A : |4|\n",
            "B : |3|\n",
            "C : |2||1|\n",
            "Lempengan 1 dari C ke A\n",
            "A : |4||1|\n",
            "B : |3|\n",
            "C : |2|\n",
            "Lempengan 2 dari C ke B\n",
            "A : |4||1|\n",
            "B : |3||2|\n",
            "C : \n",
            "Lempengan 1 dari A ke B\n",
            "A : |4|\n",
            "B : |3||2||1|\n",
            "C : \n",
            "Lempengan 4 dari A ke C\n",
            "A : \n",
            "B : |3||2||1|\n",
            "C : |4|\n",
            "Lempengan 1 dari B ke C\n",
            "A : \n",
            "B : |3||2|\n",
            "C : |4||1|\n",
            "Lempengan 2 dari B ke A\n",
            "A : |2|\n",
            "B : |3|\n",
            "C : |4||1|\n",
            "Lempengan 1 dari C ke A\n",
            "A : |2||1|\n",
            "B : |3|\n",
            "C : |4|\n",
            "Lempengan 3 dari B ke C\n",
            "A : |2||1|\n",
            "B : \n",
            "C : |4||3|\n",
            "Lempengan 1 dari A ke B\n",
            "A : |2|\n",
            "B : |1|\n",
            "C : |4||3|\n",
            "Lempengan 2 dari A ke C\n",
            "A : \n",
            "B : |1|\n",
            "C : |4||3||2|\n",
            "Lempengan 1 dari B ke C\n",
            "A : \n",
            "B : \n",
            "C : |4||3||2||1|\n"
          ]
        }
      ]
    },
    {
      "cell_type": "code",
      "source": [
        "def fungsi(n, asal, tujuan, bantuan):\n",
        "  if n > 0:\n",
        "    fungsi(n-1, asal, bantuan, tujuan)\n",
        "    print(f\"lempengan {n} dari {asal} ke {tujuan}\")\n",
        "    fungsi(n-1, bantuan, tujuan, asal)"
      ],
      "metadata": {
        "id": "2g1UGBmQ4ba5"
      },
      "execution_count": null,
      "outputs": []
    },
    {
      "cell_type": "code",
      "source": [
        "fungsi(2, 'a', 'c', 'b')"
      ],
      "metadata": {
        "colab": {
          "base_uri": "https://localhost:8080/"
        },
        "id": "q22uJW_r4uyF",
        "outputId": "ca360cc6-2cc0-445b-b314-7615cd20e5a5"
      },
      "execution_count": null,
      "outputs": [
        {
          "output_type": "stream",
          "name": "stdout",
          "text": [
            "lempengan 1 dari a ke b\n",
            "lempengan 2 dari a ke c\n",
            "lempengan 1 dari b ke c\n"
          ]
        }
      ]
    }
  ]
}