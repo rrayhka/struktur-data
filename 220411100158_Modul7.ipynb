{
  "nbformat": 4,
  "nbformat_minor": 0,
  "metadata": {
    "colab": {
      "provenance": []
    },
    "kernelspec": {
      "name": "python3",
      "display_name": "Python 3"
    },
    "language_info": {
      "name": "python"
    }
  },
  "cells": [
    {
      "cell_type": "code",
      "execution_count": null,
      "metadata": {
        "id": "HgMoH5oKWeeu"
      },
      "outputs": [],
      "source": [
        "def remainderFunction(data, data_table):\n",
        "    return data % data_table\n",
        "\n",
        "def createHashTable(n):\n",
        "    return [[None] for i in range(n)]\n",
        "\n",
        "def chaining(a, hash_table):\n",
        "    for item in a:\n",
        "        hash_value = remainderFunction(item, len(hash_table))\n",
        "        if hash_table[hash_value] == [None]:\n",
        "            hash_table[hash_value] = [item]\n",
        "        else:\n",
        "            hash_table[hash_value].append(item)\n",
        "\n",
        "def searchHash(data, table):\n",
        "    result = remainderFunction(data, len(table))\n",
        "    if table[result] != None:\n",
        "        nilai = False\n",
        "        for i in range(len(table[result])):\n",
        "            if data == table[result][i]:\n",
        "                print(f\"Data berada di slot ke {result} dan di indeks {i}\")\n",
        "                nilai = True\n",
        "        if nilai == False:\n",
        "            print(\"False\")\n",
        "    else:\n",
        "        print(\"False\")"
      ]
    },
    {
      "cell_type": "code",
      "source": [
        "# Nomor 1\n",
        "slot = remainderFunction(55, 10)\n",
        "print(slot)"
      ],
      "metadata": {
        "colab": {
          "base_uri": "https://localhost:8080/"
        },
        "id": "zEN5a1pDWsJS",
        "outputId": "4d50e900-c797-4881-aa1b-ae4529bb7b8a"
      },
      "execution_count": null,
      "outputs": [
        {
          "output_type": "stream",
          "name": "stdout",
          "text": [
            "5\n"
          ]
        }
      ]
    },
    {
      "cell_type": "code",
      "source": [
        "# Nomor 2\n",
        "hashTable = createHashTable(11)\n",
        "print(hashTable)"
      ],
      "metadata": {
        "colab": {
          "base_uri": "https://localhost:8080/"
        },
        "id": "2o9UjiLSW13x",
        "outputId": "1e1ad8c6-9008-45ae-ed4b-8e2941472dd5"
      },
      "execution_count": null,
      "outputs": [
        {
          "output_type": "stream",
          "name": "stdout",
          "text": [
            "[[None], [None], [None], [None], [None], [None], [None], [None], [None], [None], [None]]\n"
          ]
        }
      ]
    },
    {
      "cell_type": "code",
      "source": [
        "# Nomor 3\n",
        "a = [54, 26, 93, 17, 77, 31, 44, 55, 20]\n",
        "chaining(a, hashTable)\n",
        "print(hashTable)"
      ],
      "metadata": {
        "colab": {
          "base_uri": "https://localhost:8080/"
        },
        "id": "QtsPHFewXGCs",
        "outputId": "0167701c-9df3-472f-ff48-b689ed968bed"
      },
      "execution_count": null,
      "outputs": [
        {
          "output_type": "stream",
          "name": "stdout",
          "text": [
            "[[77, 44, 55], [None], [None], [None], [26], [93], [17], [None], [None], [31, 20], [54]]\n"
          ]
        }
      ]
    },
    {
      "cell_type": "code",
      "source": [
        "# Nomor 4\n",
        "for _ in range(5):\n",
        "  data = int(input(\"data yang akan di cari: \"))\n",
        "  searchHash(data, hashTable)\n",
        "  print()"
      ],
      "metadata": {
        "colab": {
          "base_uri": "https://localhost:8080/"
        },
        "id": "JlUsYfcOYOhH",
        "outputId": "026463ce-2af6-4ee6-ffc4-0e890d74db1a"
      },
      "execution_count": null,
      "outputs": [
        {
          "output_type": "stream",
          "name": "stdout",
          "text": [
            "data yang akan di cari: 66\n",
            "False\n",
            "\n",
            "data yang akan di cari: 54\n",
            "Data berada di slot ke 10 dan di indeks 0\n",
            "\n",
            "data yang akan di cari: 20\n",
            "Data berada di slot ke 9 dan di indeks 1\n",
            "\n",
            "data yang akan di cari: 55\n",
            "Data berada di slot ke 0 dan di indeks 2\n",
            "\n",
            "data yang akan di cari: 100\n",
            "False\n",
            "\n"
          ]
        }
      ]
    }
  ]
}