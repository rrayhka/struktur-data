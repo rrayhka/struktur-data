{
  "nbformat": 4,
  "nbformat_minor": 0,
  "metadata": {
    "colab": {
      "provenance": []
    },
    "kernelspec": {
      "name": "python3",
      "display_name": "Python 3"
    },
    "language_info": {
      "name": "python"
    }
  },
  "cells": [
    {
      "cell_type": "markdown",
      "source": [
        "# Nomor 1"
      ],
      "metadata": {
        "id": "Rly0mO-77RSk"
      }
    },
    {
      "cell_type": "code",
      "execution_count": null,
      "metadata": {
        "colab": {
          "base_uri": "https://localhost:8080/"
        },
        "id": "RGAmVgwS4Yxh",
        "outputId": "0f5ae7e0-3078-495b-d54a-10d9f202a997"
      },
      "outputs": [
        {
          "output_type": "stream",
          "name": "stdout",
          "text": [
            "data = [13, 12, 10, 8, 7, 5, 11, 2]\n",
            "\n",
            "data genap-ganjil sorting => [12, 13, 8, 10, 5, 7, 2, 11]\n",
            "data ganjil-genap sorting => [12, 8, 13, 5, 10, 2, 7, 11]\n",
            "\n",
            "data genap-ganjil sorting => [8, 12, 5, 13, 2, 10, 7, 11]\n",
            "data ganjil-genap sorting => [8, 5, 12, 2, 13, 7, 10, 11]\n",
            "\n",
            "data genap-ganjil sorting => [5, 8, 2, 12, 7, 13, 10, 11]\n",
            "data ganjil-genap sorting => [5, 2, 8, 7, 12, 10, 13, 11]\n",
            "\n",
            "data genap-ganjil sorting => [2, 5, 7, 8, 10, 12, 11, 13]\n",
            "data ganjil-genap sorting => [2, 5, 7, 8, 10, 11, 12, 13]\n",
            "\n",
            "data urut = [2, 5, 7, 8, 10, 11, 12, 13]\n"
          ]
        }
      ],
      "source": [
        "def bublesort(data):\n",
        "  n = len(data)\n",
        "  start, stop = 0, n-1\n",
        "  print(\"data = {}\\n\".format(data))\n",
        "  for i in range(n):\n",
        "    if i % 2 == 0:\n",
        "      for j in range(start, stop, 2):\n",
        "        if data[j] > data[j + 1]:\n",
        "          data[j], data[j + 1] = data[j + 1], data[j]\n",
        "      print(\"data genap-ganjil sorting => {}\".format(data))\n",
        "    else:\n",
        "      for j in range(start+1, stop, 2):\n",
        "        if data[j] > data[j + 1]:\n",
        "          data[j], data[j + 1] = data[j + 1], data[j]\n",
        "      print(\"data ganjil-genap sorting => {}\\n\".format(data))\n",
        "  return f\"data urut = {data}\"\n",
        "data =  [13, 12, 10, 8, 7, 5, 11, 2]\n",
        "print(bublesort(data))"
      ]
    },
    {
      "cell_type": "markdown",
      "source": [
        "# Nomor 2"
      ],
      "metadata": {
        "id": "d7Wq8dRt7d4W"
      }
    },
    {
      "cell_type": "code",
      "source": [
        "def selectionSort(data):\n",
        "  n = len(data)\n",
        "  print(\"\\nData awal = {}\".format(data))\n",
        "  for i in range(n//2):\n",
        "    min = i\n",
        "    max = i\n",
        "    print(f\"itererasi ke-{i+1}: \")\n",
        "    for j in range(i+1, n-i):\n",
        "      if data[j] < data[min]:\n",
        "        min = j\n",
        "      elif data[j] > data[max]:\n",
        "        max = j\n",
        "    data[i], data[min] = data[min], data[i]\n",
        "    print(f\"\\turut data min : {data}\")\n",
        "    data[n-i-1], data[max] = data[max], data[n-i-1]\n",
        "    print(f\"\\turut data max : {data}\")\n",
        "  return f\"\\ndata urut : {data}\"\n",
        "data = [10, 2, 5, 8, 1, 20, 7, 12, 4]\n",
        "print(selectionSort(data))"
      ],
      "metadata": {
        "id": "UVv_Le807jaa",
        "colab": {
          "base_uri": "https://localhost:8080/"
        },
        "outputId": "89d3e41e-d7ea-4979-bd9d-c402b0f064e7"
      },
      "execution_count": null,
      "outputs": [
        {
          "output_type": "stream",
          "name": "stdout",
          "text": [
            "\n",
            "Data awal = [10, 2, 5, 8, 1, 20, 7, 12, 4]\n",
            "itererasi ke-1: \n",
            "\turut data min : [1, 2, 5, 8, 10, 20, 7, 12, 4]\n",
            "\turut data max : [1, 2, 5, 8, 10, 4, 7, 12, 20]\n",
            "itererasi ke-2: \n",
            "\turut data min : [1, 2, 5, 8, 10, 4, 7, 12, 20]\n",
            "\turut data max : [1, 2, 5, 8, 10, 4, 7, 12, 20]\n",
            "itererasi ke-3: \n",
            "\turut data min : [1, 2, 4, 8, 10, 5, 7, 12, 20]\n",
            "\turut data max : [1, 2, 4, 8, 7, 5, 10, 12, 20]\n",
            "itererasi ke-4: \n",
            "\turut data min : [1, 2, 4, 5, 7, 8, 10, 12, 20]\n",
            "\turut data max : [1, 2, 4, 8, 7, 5, 10, 12, 20]\n",
            "\n",
            "data urut : [1, 2, 4, 8, 7, 5, 10, 12, 20]\n"
          ]
        }
      ]
    }
  ]
}