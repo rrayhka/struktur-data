{
  "nbformat": 4,
  "nbformat_minor": 0,
  "metadata": {
    "colab": {
      "provenance": []
    },
    "kernelspec": {
      "name": "python3",
      "display_name": "Python 3"
    },
    "language_info": {
      "name": "python"
    }
  },
  "cells": [
    {
      "cell_type": "code",
      "execution_count": null,
      "metadata": {
        "colab": {
          "base_uri": "https://localhost:8080/"
        },
        "id": "U5W8HHz4hDiW",
        "outputId": "97481ebb-b12e-4bf6-c676-465620699f18"
      },
      "outputs": [
        {
          "name": "stdout",
          "output_type": "stream",
          "text": [
            "\n",
            "matrik -1\n",
            "jumlah baris = 3\n",
            "jumlah kolom = 4\n",
            "jumlah data = 2\n",
            "baris ke = 0\n",
            "kolom ke = 0\n",
            "matrik [0, 0] = 2\n",
            "baris ke = 2\n",
            "kolom ke = 3\n",
            "matrik [2, 3] = 4\n",
            "\n",
            "matrik -2\n",
            "jumlah baris = 4\n",
            "jumlah kolom = 1\n",
            "jumlah data = 2\n",
            "baris ke = 0\n",
            "kolom ke = 0\n",
            "matrik [0, 0] = 3\n",
            "baris ke = 3\n",
            "kolom ke = 0\n",
            "matrik [3, 0] = 2\n"
          ]
        }
      ],
      "source": [
        "\n",
        "\n",
        "\n",
        "# fungsi dibawah ini untuk membuat sparse matrix sekaligus untuk menjawab nomor ke-1 pada modul praktiikum\n",
        "\n",
        "def createMatrix():\n",
        "    global matrice1\n",
        "    global matrice2\n",
        "    matrice1 = []\n",
        "    matrice2 = []\n",
        "    for matriks in range(2):\n",
        "        matrix = []\n",
        "        print()\n",
        "        print(f\"matrik -{matriks + 1}\")\n",
        "        jumlah_baris = int(input(\"jumlah baris = \"))\n",
        "        jumlah_kolom = int(input(\"jumlah kolom = \"))\n",
        "        jumlah_data = int(input(\"jumlah data = \"))\n",
        "\n",
        "        for row in range(jumlah_baris):\n",
        "            row = []\n",
        "            for col in range(jumlah_kolom):\n",
        "                row.append(0)\n",
        "            matrix.append(row)\n",
        "\n",
        "        for data in range(jumlah_data):\n",
        "            baris_ke = int(input(\"baris ke = \"))\n",
        "            kolom_ke = int(input(\"kolom ke = \"))\n",
        "            input_user = int(input(f\"matrik {[baris_ke, kolom_ke]} = \"))\n",
        "\n",
        "            for change in range(jumlah_data):\n",
        "                for baris in matrix:\n",
        "                    for kolom in baris:\n",
        "                        matrix[baris_ke][kolom_ke] = input_user\n",
        "\n",
        "        if matriks == 0:\n",
        "            matrice1 = matrix\n",
        "        else:\n",
        "            matrice2 = matrix\n",
        "createMatrix()"
      ]
    },
    {
      "cell_type": "code",
      "source": [
        "# fungsi dibawah ini untuk menampilkan list dalam bentuk matriks yang sudah dibuat pada fungsi sebelumnya\n",
        "\n",
        "def displayMatrices(matrice):\n",
        "    for i in range(len(matrice)):\n",
        "        result = ''\n",
        "        for j in range(len(matrice[i])):\n",
        "            result = result+str(matrice[i][j])+' '\n",
        "        print('|', result,'|')\n",
        "    print()"
      ],
      "metadata": {
        "id": "ok1G8KkAi0o2"
      },
      "execution_count": null,
      "outputs": []
    },
    {
      "cell_type": "code",
      "source": [
        "# kode dibawah ini untuk memanggil fungsi displayMatrice()\n",
        "# kode ini untuk menjawab soal nomor ke-2 pada modul praktikum\n",
        "\n",
        "print(\"Matriks 1 =\")\n",
        "displayMatrices(matrice1)\n",
        "\n",
        "print(\"Matriks 2 = \")\n",
        "displayMatrices(matrice2)"
      ],
      "metadata": {
        "colab": {
          "base_uri": "https://localhost:8080/"
        },
        "id": "lnkam6VBjThO",
        "outputId": "68d7e787-aae5-4128-f421-5f33d67225e1"
      },
      "execution_count": null,
      "outputs": [
        {
          "output_type": "stream",
          "name": "stdout",
          "text": [
            "Matriks 1 =\n",
            "| 2 0 0 0  |\n",
            "| 0 0 0 0  |\n",
            "| 0 0 0 4  |\n",
            "\n",
            "Matriks 2 = \n",
            "| 3  |\n",
            "| 0  |\n",
            "| 0  |\n",
            "| 2  |\n",
            "\n"
          ]
        }
      ]
    },
    {
      "cell_type": "code",
      "source": [
        "# kode dibawah ini untuk mengalikan kedua matrix\n",
        "\n",
        "def matrixMultiplication(matrice1, matrice2):\n",
        "    rows = len(matrice1)\n",
        "    columns = len(matrice2[0])\n",
        "    matrice = [[0] * columns for _ in range(rows)]\n",
        "    for i in range(rows):\n",
        "        for j in range(columns):\n",
        "            temp = 0\n",
        "            for k in range(len(matrice2)):\n",
        "                temp = temp + matrice1[i][k] * matrice2[k][j]\n",
        "                matrice[i][j] = temp\n",
        "    return matrice\n",
        "matrixMultiplication(matrice1, matrice2)"
      ],
      "metadata": {
        "colab": {
          "base_uri": "https://localhost:8080/"
        },
        "id": "kBx6kUtqkScZ",
        "outputId": "4d96699a-e1e5-47f2-99af-302ee11d040f"
      },
      "execution_count": null,
      "outputs": [
        {
          "output_type": "execute_result",
          "data": {
            "text/plain": [
              "[[6], [0], [8]]"
            ]
          },
          "metadata": {},
          "execution_count": 5
        }
      ]
    },
    {
      "cell_type": "code",
      "source": [
        "# kode dibawah ini untuk menampilkan hasil perkalian matrix\n",
        "# kode dibawah ini untuk menjawab pertanyaan pada soal ke-3 pada modul praktikum\n",
        "\n",
        "print(\"Matriks 1 =\")\n",
        "displayMatrices(matrice1)\n",
        "\n",
        "print(\"Matriks 2 = \")\n",
        "displayMatrices(matrice2)\n",
        "\n",
        "print(\"Hasil =\")\n",
        "displayMatrices(matrixMultiplication(matrice1, matrice2))"
      ],
      "metadata": {
        "colab": {
          "base_uri": "https://localhost:8080/"
        },
        "id": "zrJuTzxklZQp",
        "outputId": "84a1fc68-3f22-46a9-d017-136b5b6ff35e"
      },
      "execution_count": null,
      "outputs": [
        {
          "output_type": "stream",
          "name": "stdout",
          "text": [
            "Matriks 1 =\n",
            "| 2 0 0 0  |\n",
            "| 0 0 0 0  |\n",
            "| 0 0 0 4  |\n",
            "\n",
            "Matriks 2 = \n",
            "| 3  |\n",
            "| 0  |\n",
            "| 0  |\n",
            "| 2  |\n",
            "\n",
            "Hasil =\n",
            "| 6  |\n",
            "| 0  |\n",
            "| 8  |\n",
            "\n"
          ]
        }
      ]
    }
  ]
}