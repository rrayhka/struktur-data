{
  "nbformat": 4,
  "nbformat_minor": 0,
  "metadata": {
    "colab": {
      "provenance": []
    },
    "kernelspec": {
      "name": "python3",
      "display_name": "Python 3"
    },
    "language_info": {
      "name": "python"
    }
  },
  "cells": [
    {
      "cell_type": "code",
      "source": [
        "class Node:\n",
        "    def __init__(self, data):\n",
        "        self.left = None\n",
        "        self.right = None\n",
        "        self.data = data\n",
        "\n",
        "    def insert(self, data):\n",
        "        if self.data:\n",
        "            if data < self.data:\n",
        "                if self.left is None:\n",
        "                    self.left = Node(data)\n",
        "                else:\n",
        "                    self.left.insert(data)\n",
        "            elif data > self.data:\n",
        "                if self.right is None:\n",
        "                    self.right = Node(data)\n",
        "                else:\n",
        "                    self.right.insert(data)\n",
        "\n",
        "    def PrintTree(self):\n",
        "        if self.left:\n",
        "            self.left.PrintTree()\n",
        "        print(self.data)\n",
        "        if self.right:\n",
        "            self.right.PrintTree()\n",
        "\n",
        "root = Node('a')\n",
        "root.left = Node('b')\n",
        "root.left.left = Node('d')\n",
        "root.right = Node('c')\n",
        "root.right.left = Node('e')\n",
        "root.right.right = Node('f')\n",
        "root.PrintTree()"
      ],
      "metadata": {
        "id": "UYjS4knESkBw",
        "colab": {
          "base_uri": "https://localhost:8080/"
        },
        "outputId": "551d9fe6-6f42-4641-c9b0-e39c65695c8d"
      },
      "execution_count": null,
      "outputs": [
        {
          "output_type": "stream",
          "name": "stdout",
          "text": [
            "d\n",
            "b\n",
            "a\n",
            "e\n",
            "c\n",
            "f\n"
          ]
        }
      ]
    },
    {
      "cell_type": "code",
      "source": [
        "class Node:\n",
        "    def __init__(self, data):\n",
        "        self.left = None\n",
        "        self.right = None\n",
        "        self.data = data\n",
        "\n",
        "\n",
        "    def buildTree(a):\n",
        "        stack = []\n",
        "        tokens = a.split()\n",
        "        operators = set(['+', '-', '*', '/'])\n",
        "        for token in tokens:\n",
        "            if token not in operators:\n",
        "                tree = Node(token)\n",
        "                stack.append(tree)\n",
        "            else:\n",
        "                right_tree = stack.pop()\n",
        "                left_tree = stack.pop()\n",
        "                operator_tree = Node(token)\n",
        "                operator_tree.left = left_tree\n",
        "                operator_tree.right = right_tree\n",
        "                stack.append(operator_tree)\n",
        "        return stack[0]\n",
        "\n",
        "\n",
        "    def evaluate(node):\n",
        "        if node is None:\n",
        "            return 0\n",
        "        if node.left is None and node.right is None:\n",
        "            return int(node.data)\n",
        "        left_val = Node.evaluate(node.left)\n",
        "        right_val = Node.evaluate(node.right)\n",
        "        if node.data == '+':\n",
        "            return left_val + right_val\n",
        "        elif node.data == '-':\n",
        "            return left_val - right_val\n",
        "        elif node.data == '*':\n",
        "            return left_val * right_val\n",
        "        elif node.data == '/':\n",
        "            return left_val / right_val"
      ],
      "metadata": {
        "id": "NB1s8-J9-tk8"
      },
      "execution_count": null,
      "outputs": []
    },
    {
      "cell_type": "code",
      "source": [
        "a = '2 8 9 + *'\n",
        "resTree = Node.buildTree(a)\n",
        "result = Node.evaluate(resTree)\n",
        "print(result)\n",
        "\n",
        "a = '2 4 + 3 5 * -'\n",
        "resTree = Node.buildTree(a)\n",
        "result = Node.evaluate(resTree)\n",
        "print(result)\n",
        "\n",
        "a = '10 3 2 12 + - *'\n",
        "resTree = Node.buildTree(a)\n",
        "result = Node.evaluate(resTree)\n",
        "print(result)"
      ],
      "metadata": {
        "colab": {
          "base_uri": "https://localhost:8080/"
        },
        "id": "TL8eDNOY-v1k",
        "outputId": "2229d1fc-08de-4ee5-e033-be417a91ca43"
      },
      "execution_count": null,
      "outputs": [
        {
          "output_type": "stream",
          "name": "stdout",
          "text": [
            "34\n",
            "-9\n",
            "-110\n"
          ]
        }
      ]
    }
  ]
}