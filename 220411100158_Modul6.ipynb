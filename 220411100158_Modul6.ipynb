{
  "nbformat": 4,
  "nbformat_minor": 0,
  "metadata": {
    "colab": {
      "provenance": []
    },
    "kernelspec": {
      "name": "python3",
      "display_name": "Python 3"
    },
    "language_info": {
      "name": "python"
    }
  },
  "cells": [
    {
      "cell_type": "markdown",
      "source": [
        "# Nomor 1\n"
      ],
      "metadata": {
        "id": "FMzzZjWf3zu2"
      }
    },
    {
      "cell_type": "code",
      "execution_count": null,
      "metadata": {
        "colab": {
          "base_uri": "https://localhost:8080/"
        },
        "id": "fKRgQ_F_3BvR",
        "outputId": "ccf033e7-5665-4e9a-dbd0-2089ef3d0dd2"
      },
      "outputs": [
        {
          "output_type": "stream",
          "name": "stdout",
          "text": [
            "Data yang dicari: 0\n",
            "Data tidak ada\n",
            "Jumlah iterasi: 10\n",
            "\n",
            "Data yang dicari: 9\n",
            "Data ditemukan di indeks: [2]\n",
            "Jumlah iterasi: 10\n",
            "\n",
            "Data yang dicari: 5\n",
            "Data ditemukan di indeks: [1, 5, 8]\n",
            "Jumlah iterasi: 10\n",
            "\n"
          ]
        }
      ],
      "source": [
        "def unOrderedSequentialSearch(lists, key):\n",
        "    iteration = 0\n",
        "    found = False\n",
        "    n = len(lists)\n",
        "    atIndex = []\n",
        "\n",
        "    while iteration < n or not found:\n",
        "        if lists[iteration] == key:\n",
        "            atIndex.append(iteration)\n",
        "            found = True\n",
        "        iteration += 1\n",
        "        if iteration == n:\n",
        "            break\n",
        "\n",
        "    if found:\n",
        "        print(\"Data ditemukan di indeks:\", atIndex)\n",
        "        print(\"Jumlah iterasi:\", iteration)\n",
        "    else:\n",
        "        print(\"Data tidak ada\")\n",
        "        print(\"Jumlah iterasi:\", iteration)\n",
        "\n",
        "# Pemanggilan Fungsi\n",
        "lists = [1, 5, 9, 8, 1, 5, 10, 26, 5, 12]\n",
        "for _ in range(3):\n",
        "    key = int(input(\"Data yang dicari: \"))\n",
        "    unOrderedSequentialSearch(lists, key)\n",
        "    print()"
      ]
    },
    {
      "cell_type": "markdown",
      "source": [
        "# Nomor 2"
      ],
      "metadata": {
        "id": "J2cMidU_3sJN"
      }
    },
    {
      "cell_type": "code",
      "source": [
        "def orderedSequentialSearch(lists,key):\n",
        "    found = False\n",
        "    iteration = 0\n",
        "    stop = False\n",
        "    atIndex = []\n",
        "    n = len(lists)\n",
        "\n",
        "    while not stop:\n",
        "        if iteration == n or lists[iteration] > key:\n",
        "            stop = True\n",
        "        iteration += 1\n",
        "        if lists[iteration] == key:\n",
        "            atIndex.append(iteration)\n",
        "            found = True\n",
        "\n",
        "    if not found:\n",
        "        print('Data tidak ada')\n",
        "        print(\"Jumlah iterasi:\", iteration)\n",
        "    else:\n",
        "        print(\"Data ditemukan di indeks:\", atIndex)\n",
        "        print(\"Jumlah iterasi:\", iteration)\n",
        "\n",
        "# Pemanggilan Fungsi\n",
        "lists = [1, 1, 5, 5, 5, 8, 9, 10, 12, 16]\n",
        "for _ in range(3):\n",
        "    key = int(input(\"Data yang dicari: \"))\n",
        "    orderedSequentialSearch(lists, key)\n",
        "    print()"
      ],
      "metadata": {
        "colab": {
          "base_uri": "https://localhost:8080/"
        },
        "id": "GLrN_WZ83rE0",
        "outputId": "20bc5f5b-7b0f-4da3-e583-cb00ae0f5071"
      },
      "execution_count": null,
      "outputs": [
        {
          "output_type": "stream",
          "name": "stdout",
          "text": [
            "Data yang dicari: 0\n",
            "Data tidak ada\n",
            "Jumlah iterasi: 1\n",
            "\n",
            "Data yang dicari: 9\n",
            "Data ditemukan di indeks: [6]\n",
            "Jumlah iterasi: 8\n",
            "\n",
            "Data yang dicari: 5\n",
            "Data ditemukan di indeks: [2, 3, 4]\n",
            "Jumlah iterasi: 6\n",
            "\n"
          ]
        }
      ]
    },
    {
      "cell_type": "markdown",
      "source": [
        "# Nomor 3"
      ],
      "metadata": {
        "id": "ImJxHyBktVXv"
      }
    },
    {
      "cell_type": "code",
      "source": [
        "def binarySearch(listdata, data):\n",
        "    awal = 0\n",
        "    akhir = len(listdata) - 1\n",
        "    posisi = []\n",
        "    iterasi = 0\n",
        "\n",
        "    while awal <= akhir:\n",
        "        midpoint = (awal + akhir)//2\n",
        "        if listdata[midpoint]==data:\n",
        "            posisi.append(midpoint)\n",
        "            if data < listdata[midpoint+1]:\n",
        "                akhir = midpoint - 1\n",
        "            else:\n",
        "              awal=midpoint + 1\n",
        "\n",
        "        else:\n",
        "            if data < listdata[midpoint]:\n",
        "                akhir = midpoint - 1\n",
        "            else:\n",
        "                awal = midpoint + 1\n",
        "        iterasi += 1\n",
        "\n",
        "    if len(posisi)==0:\n",
        "        return 'Data tidak ada', iterasi\n",
        "\n",
        "    return posisi, iterasi\n",
        "\n",
        "# Pemanggilan fungsi\n",
        "lists = [1,1,5,5,5,8,9,10,12,26]\n",
        "for _ in range(3):\n",
        "  data = int(input(\"data yang dicari: \"))\n",
        "  [hasil, iterasi] = binarySearch(lists, data)\n",
        "  print('Posisi data = ',hasil)\n",
        "  print('jumlah iterasi = ',iterasi)\n",
        "  print()"
      ],
      "metadata": {
        "id": "Zr8TnLNqtXn8",
        "colab": {
          "base_uri": "https://localhost:8080/"
        },
        "outputId": "50b98b1e-4198-480a-e0df-69e94080d1be"
      },
      "execution_count": null,
      "outputs": [
        {
          "output_type": "stream",
          "name": "stdout",
          "text": [
            "data yang dicari: 5\n",
            "Posisi data =  [4, 2, 3]\n",
            "jumlah iterasi =  4\n",
            "\n",
            "data yang dicari: 1\n",
            "Posisi data =  [1, 0]\n",
            "jumlah iterasi =  3\n",
            "\n",
            "data yang dicari: 20\n",
            "Posisi data =  Data tidak ada\n",
            "jumlah iterasi =  4\n",
            "\n"
          ]
        }
      ]
    }
  ]
}